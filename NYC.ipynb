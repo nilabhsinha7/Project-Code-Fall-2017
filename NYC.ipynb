{
 "cells": [
  {
   "cell_type": "code",
   "execution_count": 1,
   "metadata": {
    "collapsed": true
   },
   "outputs": [],
   "source": [
    "import os\n",
    "import pandas as pd\n",
    "import seaborn as sns\n",
    "import matplotlib.pyplot as plt\n",
    "from sklearn import metrics\n",
    "%matplotlib inline\n",
    "import numpy as np # linear algebra\n",
    "import pandas as pd # data processing, CSV file I/O (e.g. pd.read_csv)\n",
    "from datetime import timedelta\n",
    "import datetime as dt\n",
    "import matplotlib.pyplot as plt\n",
    "plt.rcParams['figure.figsize'] = [16, 10]\n",
    "from sklearn.model_selection import train_test_split\n",
    "from sklearn.decomposition import PCA\n",
    "from sklearn.cluster import MiniBatchKMeans\n",
    "import warnings\n",
    "warnings.filterwarnings('ignore')\n",
    "import statsmodels.api as sm\n",
    "from sklearn import linear_model\n",
    "import statsmodels.api as sm\n",
    "from sklearn.cross_validation import train_test_split\n",
    "from sklearn.linear_model import LinearRegression\n",
    "from sklearn import metrics\n",
    "from math import radians, cos, sin, asin, sqrt"
   ]
  },
  {
   "cell_type": "code",
   "execution_count": 2,
   "metadata": {
    "collapsed": true
   },
   "outputs": [],
   "source": [
    "#reading train.csv file#\n",
    "dftrain = pd.read_csv('train.csv', index_col=False)"
   ]
  },
  {
   "cell_type": "code",
   "execution_count": 3,
   "metadata": {
    "collapsed": true
   },
   "outputs": [],
   "source": [
    "#reading climate data file\n",
    "weather = pd.read_csv('weather.csv', index_col=False)"
   ]
  },
  {
   "cell_type": "code",
   "execution_count": 4,
   "metadata": {},
   "outputs": [
    {
     "data": {
      "text/plain": [
       "(1458644, 11)"
      ]
     },
     "execution_count": 4,
     "metadata": {},
     "output_type": "execute_result"
    }
   ],
   "source": [
    "#for data shape\n",
    "dftrain.shape\n",
    "    "
   ]
  },
  {
   "cell_type": "markdown",
   "metadata": {},
   "source": [
    "# Data Cleaning"
   ]
  },
  {
   "cell_type": "markdown",
   "metadata": {},
   "source": [
    "City Boundaries, outliers in time duration"
   ]
  },
  {
   "cell_type": "code",
   "execution_count": 114,
   "metadata": {},
   "outputs": [
    {
     "data": {
      "text/html": [
       "<div>\n",
       "<style>\n",
       "    .dataframe thead tr:only-child th {\n",
       "        text-align: right;\n",
       "    }\n",
       "\n",
       "    .dataframe thead th {\n",
       "        text-align: left;\n",
       "    }\n",
       "\n",
       "    .dataframe tbody tr th {\n",
       "        vertical-align: top;\n",
       "    }\n",
       "</style>\n",
       "<table border=\"1\" class=\"dataframe\">\n",
       "  <thead>\n",
       "    <tr style=\"text-align: right;\">\n",
       "      <th></th>\n",
       "      <th>vendor_id</th>\n",
       "      <th>passenger_count</th>\n",
       "      <th>pickup_longitude</th>\n",
       "      <th>pickup_latitude</th>\n",
       "      <th>dropoff_longitude</th>\n",
       "      <th>dropoff_latitude</th>\n",
       "      <th>trip_duration</th>\n",
       "      <th>pickup_hour</th>\n",
       "      <th>drop_hour</th>\n",
       "      <th>pickup_month</th>\n",
       "      <th>drop_month</th>\n",
       "      <th>pickup_weekday</th>\n",
       "      <th>drop_weekday</th>\n",
       "      <th>distance</th>\n",
       "      <th>maximum Temperature</th>\n",
       "      <th>minimum Temperature</th>\n",
       "      <th>average Temperature</th>\n",
       "      <th>precipitation</th>\n",
       "      <th>snow fall</th>\n",
       "      <th>snow depth</th>\n",
       "    </tr>\n",
       "  </thead>\n",
       "  <tbody>\n",
       "    <tr>\n",
       "      <th>count</th>\n",
       "      <td>1.424814e+06</td>\n",
       "      <td>1.424814e+06</td>\n",
       "      <td>1.424814e+06</td>\n",
       "      <td>1.424814e+06</td>\n",
       "      <td>1.424814e+06</td>\n",
       "      <td>1.424814e+06</td>\n",
       "      <td>1.424814e+06</td>\n",
       "      <td>1.424814e+06</td>\n",
       "      <td>1.424814e+06</td>\n",
       "      <td>1.424814e+06</td>\n",
       "      <td>1.424814e+06</td>\n",
       "      <td>1.424814e+06</td>\n",
       "      <td>1.424814e+06</td>\n",
       "      <td>1.424814e+06</td>\n",
       "      <td>1.424814e+06</td>\n",
       "      <td>1.424814e+06</td>\n",
       "      <td>1.424814e+06</td>\n",
       "      <td>1.424814e+06</td>\n",
       "      <td>1.424814e+06</td>\n",
       "      <td>1.424814e+06</td>\n",
       "    </tr>\n",
       "    <tr>\n",
       "      <th>mean</th>\n",
       "      <td>1.534849e+00</td>\n",
       "      <td>1.665181e+00</td>\n",
       "      <td>-7.397428e+01</td>\n",
       "      <td>4.075127e+01</td>\n",
       "      <td>-7.397388e+01</td>\n",
       "      <td>4.075183e+01</td>\n",
       "      <td>8.138770e+02</td>\n",
       "      <td>1.362076e+01</td>\n",
       "      <td>1.361541e+01</td>\n",
       "      <td>3.513391e+00</td>\n",
       "      <td>3.513686e+00</td>\n",
       "      <td>3.049628e+00</td>\n",
       "      <td>3.053724e+00</td>\n",
       "      <td>3.258355e+00</td>\n",
       "      <td>5.936295e+01</td>\n",
       "      <td>4.358186e+01</td>\n",
       "      <td>5.147240e+01</td>\n",
       "      <td>8.593783e-02</td>\n",
       "      <td>6.145293e-02</td>\n",
       "      <td>4.068356e-01</td>\n",
       "    </tr>\n",
       "    <tr>\n",
       "      <th>std</th>\n",
       "      <td>4.987843e-01</td>\n",
       "      <td>1.315176e+00</td>\n",
       "      <td>3.608799e-02</td>\n",
       "      <td>2.701934e-02</td>\n",
       "      <td>3.177553e-02</td>\n",
       "      <td>2.937548e-02</td>\n",
       "      <td>5.951538e+02</td>\n",
       "      <td>6.383876e+00</td>\n",
       "      <td>6.465010e+00</td>\n",
       "      <td>1.680799e+00</td>\n",
       "      <td>1.680965e+00</td>\n",
       "      <td>1.954223e+00</td>\n",
       "      <td>1.956573e+00</td>\n",
       "      <td>3.555249e+00</td>\n",
       "      <td>1.696046e+01</td>\n",
       "      <td>1.484428e+01</td>\n",
       "      <td>1.568725e+01</td>\n",
       "      <td>2.496266e-01</td>\n",
       "      <td>9.417261e-01</td>\n",
       "      <td>2.240720e+00</td>\n",
       "    </tr>\n",
       "    <tr>\n",
       "      <th>min</th>\n",
       "      <td>1.000000e+00</td>\n",
       "      <td>0.000000e+00</td>\n",
       "      <td>-7.402968e+01</td>\n",
       "      <td>4.063000e+01</td>\n",
       "      <td>-7.403000e+01</td>\n",
       "      <td>4.063000e+01</td>\n",
       "      <td>5.400000e+01</td>\n",
       "      <td>0.000000e+00</td>\n",
       "      <td>0.000000e+00</td>\n",
       "      <td>1.000000e+00</td>\n",
       "      <td>1.000000e+00</td>\n",
       "      <td>0.000000e+00</td>\n",
       "      <td>0.000000e+00</td>\n",
       "      <td>0.000000e+00</td>\n",
       "      <td>1.500000e+01</td>\n",
       "      <td>-1.000000e+00</td>\n",
       "      <td>7.000000e+00</td>\n",
       "      <td>0.000000e+00</td>\n",
       "      <td>0.000000e+00</td>\n",
       "      <td>0.000000e+00</td>\n",
       "    </tr>\n",
       "    <tr>\n",
       "      <th>25%</th>\n",
       "      <td>1.000000e+00</td>\n",
       "      <td>1.000000e+00</td>\n",
       "      <td>-7.399191e+01</td>\n",
       "      <td>4.073763e+01</td>\n",
       "      <td>-7.399131e+01</td>\n",
       "      <td>4.073642e+01</td>\n",
       "      <td>3.970000e+02</td>\n",
       "      <td>9.000000e+00</td>\n",
       "      <td>9.000000e+00</td>\n",
       "      <td>2.000000e+00</td>\n",
       "      <td>2.000000e+00</td>\n",
       "      <td>1.000000e+00</td>\n",
       "      <td>1.000000e+00</td>\n",
       "      <td>1.232835e+00</td>\n",
       "      <td>4.500000e+01</td>\n",
       "      <td>3.200000e+01</td>\n",
       "      <td>3.850000e+01</td>\n",
       "      <td>0.000000e+00</td>\n",
       "      <td>0.000000e+00</td>\n",
       "      <td>0.000000e+00</td>\n",
       "    </tr>\n",
       "    <tr>\n",
       "      <th>50%</th>\n",
       "      <td>2.000000e+00</td>\n",
       "      <td>1.000000e+00</td>\n",
       "      <td>-7.398182e+01</td>\n",
       "      <td>4.075421e+01</td>\n",
       "      <td>-7.397989e+01</td>\n",
       "      <td>4.075457e+01</td>\n",
       "      <td>6.560000e+02</td>\n",
       "      <td>1.400000e+01</td>\n",
       "      <td>1.400000e+01</td>\n",
       "      <td>4.000000e+00</td>\n",
       "      <td>4.000000e+00</td>\n",
       "      <td>3.000000e+00</td>\n",
       "      <td>3.000000e+00</td>\n",
       "      <td>2.071825e+00</td>\n",
       "      <td>5.900000e+01</td>\n",
       "      <td>4.400000e+01</td>\n",
       "      <td>5.150000e+01</td>\n",
       "      <td>0.000000e+00</td>\n",
       "      <td>0.000000e+00</td>\n",
       "      <td>0.000000e+00</td>\n",
       "    </tr>\n",
       "    <tr>\n",
       "      <th>75%</th>\n",
       "      <td>2.000000e+00</td>\n",
       "      <td>2.000000e+00</td>\n",
       "      <td>-7.396770e+01</td>\n",
       "      <td>4.076836e+01</td>\n",
       "      <td>-7.396363e+01</td>\n",
       "      <td>4.076958e+01</td>\n",
       "      <td>1.053000e+03</td>\n",
       "      <td>1.900000e+01</td>\n",
       "      <td>1.900000e+01</td>\n",
       "      <td>5.000000e+00</td>\n",
       "      <td>5.000000e+00</td>\n",
       "      <td>5.000000e+00</td>\n",
       "      <td>5.000000e+00</td>\n",
       "      <td>3.753202e+00</td>\n",
       "      <td>7.300000e+01</td>\n",
       "      <td>5.400000e+01</td>\n",
       "      <td>6.300000e+01</td>\n",
       "      <td>4.000000e-02</td>\n",
       "      <td>0.000000e+00</td>\n",
       "      <td>0.000000e+00</td>\n",
       "    </tr>\n",
       "    <tr>\n",
       "      <th>max</th>\n",
       "      <td>2.000000e+00</td>\n",
       "      <td>6.000000e+00</td>\n",
       "      <td>-7.375282e+01</td>\n",
       "      <td>4.085000e+01</td>\n",
       "      <td>-7.375000e+01</td>\n",
       "      <td>4.085000e+01</td>\n",
       "      <td>4.081000e+03</td>\n",
       "      <td>2.300000e+01</td>\n",
       "      <td>2.300000e+01</td>\n",
       "      <td>6.000000e+00</td>\n",
       "      <td>7.000000e+00</td>\n",
       "      <td>6.000000e+00</td>\n",
       "      <td>6.000000e+00</td>\n",
       "      <td>2.719163e+01</td>\n",
       "      <td>9.200000e+01</td>\n",
       "      <td>7.300000e+01</td>\n",
       "      <td>8.150000e+01</td>\n",
       "      <td>2.310000e+00</td>\n",
       "      <td>2.730000e+01</td>\n",
       "      <td>2.200000e+01</td>\n",
       "    </tr>\n",
       "  </tbody>\n",
       "</table>\n",
       "</div>"
      ],
      "text/plain": [
       "          vendor_id  passenger_count  pickup_longitude  pickup_latitude  \\\n",
       "count  1.424814e+06     1.424814e+06      1.424814e+06     1.424814e+06   \n",
       "mean   1.534849e+00     1.665181e+00     -7.397428e+01     4.075127e+01   \n",
       "std    4.987843e-01     1.315176e+00      3.608799e-02     2.701934e-02   \n",
       "min    1.000000e+00     0.000000e+00     -7.402968e+01     4.063000e+01   \n",
       "25%    1.000000e+00     1.000000e+00     -7.399191e+01     4.073763e+01   \n",
       "50%    2.000000e+00     1.000000e+00     -7.398182e+01     4.075421e+01   \n",
       "75%    2.000000e+00     2.000000e+00     -7.396770e+01     4.076836e+01   \n",
       "max    2.000000e+00     6.000000e+00     -7.375282e+01     4.085000e+01   \n",
       "\n",
       "       dropoff_longitude  dropoff_latitude  trip_duration   pickup_hour  \\\n",
       "count       1.424814e+06      1.424814e+06   1.424814e+06  1.424814e+06   \n",
       "mean       -7.397388e+01      4.075183e+01   8.138770e+02  1.362076e+01   \n",
       "std         3.177553e-02      2.937548e-02   5.951538e+02  6.383876e+00   \n",
       "min        -7.403000e+01      4.063000e+01   5.400000e+01  0.000000e+00   \n",
       "25%        -7.399131e+01      4.073642e+01   3.970000e+02  9.000000e+00   \n",
       "50%        -7.397989e+01      4.075457e+01   6.560000e+02  1.400000e+01   \n",
       "75%        -7.396363e+01      4.076958e+01   1.053000e+03  1.900000e+01   \n",
       "max        -7.375000e+01      4.085000e+01   4.081000e+03  2.300000e+01   \n",
       "\n",
       "          drop_hour  pickup_month    drop_month  pickup_weekday  drop_weekday  \\\n",
       "count  1.424814e+06  1.424814e+06  1.424814e+06    1.424814e+06  1.424814e+06   \n",
       "mean   1.361541e+01  3.513391e+00  3.513686e+00    3.049628e+00  3.053724e+00   \n",
       "std    6.465010e+00  1.680799e+00  1.680965e+00    1.954223e+00  1.956573e+00   \n",
       "min    0.000000e+00  1.000000e+00  1.000000e+00    0.000000e+00  0.000000e+00   \n",
       "25%    9.000000e+00  2.000000e+00  2.000000e+00    1.000000e+00  1.000000e+00   \n",
       "50%    1.400000e+01  4.000000e+00  4.000000e+00    3.000000e+00  3.000000e+00   \n",
       "75%    1.900000e+01  5.000000e+00  5.000000e+00    5.000000e+00  5.000000e+00   \n",
       "max    2.300000e+01  6.000000e+00  7.000000e+00    6.000000e+00  6.000000e+00   \n",
       "\n",
       "           distance  maximum Temperature  minimum Temperature  \\\n",
       "count  1.424814e+06         1.424814e+06         1.424814e+06   \n",
       "mean   3.258355e+00         5.936295e+01         4.358186e+01   \n",
       "std    3.555249e+00         1.696046e+01         1.484428e+01   \n",
       "min    0.000000e+00         1.500000e+01        -1.000000e+00   \n",
       "25%    1.232835e+00         4.500000e+01         3.200000e+01   \n",
       "50%    2.071825e+00         5.900000e+01         4.400000e+01   \n",
       "75%    3.753202e+00         7.300000e+01         5.400000e+01   \n",
       "max    2.719163e+01         9.200000e+01         7.300000e+01   \n",
       "\n",
       "       average Temperature  precipitation     snow fall    snow depth  \n",
       "count         1.424814e+06   1.424814e+06  1.424814e+06  1.424814e+06  \n",
       "mean          5.147240e+01   8.593783e-02  6.145293e-02  4.068356e-01  \n",
       "std           1.568725e+01   2.496266e-01  9.417261e-01  2.240720e+00  \n",
       "min           7.000000e+00   0.000000e+00  0.000000e+00  0.000000e+00  \n",
       "25%           3.850000e+01   0.000000e+00  0.000000e+00  0.000000e+00  \n",
       "50%           5.150000e+01   0.000000e+00  0.000000e+00  0.000000e+00  \n",
       "75%           6.300000e+01   4.000000e-02  0.000000e+00  0.000000e+00  \n",
       "max           8.150000e+01   2.310000e+00  2.730000e+01  2.200000e+01  "
      ]
     },
     "execution_count": 114,
     "metadata": {},
     "output_type": "execute_result"
    }
   ],
   "source": [
    "dftrain.describe()"
   ]
  },
  {
   "cell_type": "code",
   "execution_count": 5,
   "metadata": {
    "collapsed": true
   },
   "outputs": [],
   "source": [
    "#Longitude, Latitude cleanup wrt city borders\n",
    "def boundaries(df):\n",
    "    df = df[df['pickup_longitude'] <= -73.75]\n",
    "    df = df[df['pickup_longitude'] >= -74.03]\n",
    "    df = df[df['pickup_latitude'] <= 40.85]\n",
    "    df = df[df['pickup_latitude'] >= 40.63]\n",
    "    df = df[df['dropoff_longitude'] <= -73.75]\n",
    "    df = df[df['dropoff_longitude'] >= -74.03]\n",
    "    df = df[df['dropoff_latitude'] <= 40.85]\n",
    "    df = df[df['dropoff_latitude'] >= 40.63]\n",
    "    return df"
   ]
  },
  {
   "cell_type": "code",
   "execution_count": 6,
   "metadata": {
    "collapsed": true
   },
   "outputs": [],
   "source": [
    "dftrain = boundaries(dftrain)"
   ]
  },
  {
   "cell_type": "code",
   "execution_count": 7,
   "metadata": {
    "collapsed": true
   },
   "outputs": [],
   "source": [
    "#Trip duration cleanup -\n",
    "def cleanduration(df):\n",
    "    limits  = [np.percentile(df['trip_duration'], 0.5), np.percentile(df['trip_duration'], 99.5)]\n",
    "    df1=df[(df.trip_duration >= limits[0] ) & (df.trip_duration <= limits[1])]\n",
    "    return df1"
   ]
  },
  {
   "cell_type": "code",
   "execution_count": 8,
   "metadata": {
    "collapsed": true
   },
   "outputs": [],
   "source": [
    "dftrain = cleanduration(dftrain)"
   ]
  },
  {
   "cell_type": "code",
   "execution_count": 9,
   "metadata": {},
   "outputs": [
    {
     "data": {
      "text/plain": [
       "(1424814, 11)"
      ]
     },
     "execution_count": 9,
     "metadata": {},
     "output_type": "execute_result"
    }
   ],
   "source": [
    "dftrain.shape"
   ]
  },
  {
   "cell_type": "markdown",
   "metadata": {},
   "source": [
    "# Factor Extraction"
   ]
  },
  {
   "cell_type": "markdown",
   "metadata": {},
   "source": [
    "# Extracting features from Timestamp"
   ]
  },
  {
   "cell_type": "code",
   "execution_count": 10,
   "metadata": {
    "collapsed": true
   },
   "outputs": [],
   "source": [
    "#Changing time stamp format\n",
    "def timedtype(df):\n",
    "    df['pickup_datetime'] = pd.to_datetime(df['pickup_datetime'])\n",
    "    df['dropoff_datetime']= pd.to_datetime(df['dropoff_datetime'])\n",
    "    return df"
   ]
  },
  {
   "cell_type": "code",
   "execution_count": 11,
   "metadata": {
    "collapsed": true
   },
   "outputs": [],
   "source": [
    "dftrain = timedtype(dftrain)"
   ]
  },
  {
   "cell_type": "code",
   "execution_count": 12,
   "metadata": {
    "collapsed": true
   },
   "outputs": [],
   "source": [
    "#Extracting individual parameters from fatestamp\n",
    "def dateextract(df):\n",
    "    df['pickup_date'] = df['pickup_datetime'].dt.date\n",
    "    df['drop_date'] = df['dropoff_datetime'].dt.date\n",
    "\n",
    "    df['pickup_time'] = df['pickup_datetime'].dt.time\n",
    "    df['drop_time'] = df['dropoff_datetime'].dt.time\n",
    "\n",
    "    df['pickup_hour'] = df['pickup_datetime'].dt.hour\n",
    "    df['drop_hour'] = df['dropoff_datetime'].dt.hour\n",
    "\n",
    "    df['pickup_month'] = df['pickup_datetime'].dt.month\n",
    "    df['drop_month'] = df['dropoff_datetime'].dt.month\n",
    "\n",
    "    df['pickup_weekday'] = df['pickup_datetime'].dt.weekday\n",
    "    df['drop_weekday'] = df['dropoff_datetime'].dt.weekday\n",
    "    \n",
    "    df['yday'] = df['pickup_datetime'].dt.dayofyear"
   ]
  },
  {
   "cell_type": "code",
   "execution_count": 13,
   "metadata": {
    "collapsed": true
   },
   "outputs": [],
   "source": [
    "dateextract(dftrain)"
   ]
  },
  {
   "cell_type": "code",
   "execution_count": 14,
   "metadata": {},
   "outputs": [
    {
     "data": {
      "text/plain": [
       "(1424814, 22)"
      ]
     },
     "execution_count": 14,
     "metadata": {},
     "output_type": "execute_result"
    }
   ],
   "source": [
    "dftrain.shape"
   ]
  },
  {
   "cell_type": "markdown",
   "metadata": {},
   "source": [
    "# Distance calculation"
   ]
  },
  {
   "cell_type": "code",
   "execution_count": 15,
   "metadata": {
    "collapsed": true
   },
   "outputs": [],
   "source": [
    "#Calculating Distance between Co-ordinates\n",
    "#Distance calculation\n",
    "from math import radians, cos, sin, asin, sqrt\n",
    "def haversine(lon1, lat1, lon2, lat2):\n",
    "    \"\"\"\n",
    "    Calculate the great circle distance between two points \n",
    "    on the earth (specified in decimal degrees)\n",
    "    \"\"\"\n",
    "    \n",
    "    # convert decimal degrees to radians \n",
    "    lon1, lat1, lon2, lat2 = map(radians, [lon1, lat1, lon2, lat2])\n",
    "    # haversine formula \n",
    "    dlon = lon2 - lon1 \n",
    "    dlat = lat2 - lat1 \n",
    "    a = sin(dlat/2)**2 + cos(lat1) * cos(lat2) * sin(dlon/2)**2\n",
    "    c = 2 * asin(sqrt(a)) \n",
    "    # Radius of earth in kilometers is 6371\n",
    "    km = 6371* c\n",
    "    return km\n",
    "def distance(df):\n",
    "    df['distance'] = df.apply(lambda x: haversine(x.pickup_longitude,x.pickup_latitude,x.dropoff_longitude,x.dropoff_latitude), axis=1)"
   ]
  },
  {
   "cell_type": "code",
   "execution_count": 16,
   "metadata": {
    "collapsed": true
   },
   "outputs": [],
   "source": [
    "distance(dftrain)"
   ]
  },
  {
   "cell_type": "code",
   "execution_count": 17,
   "metadata": {},
   "outputs": [
    {
     "data": {
      "text/plain": [
       "(1424814, 23)"
      ]
     },
     "execution_count": 17,
     "metadata": {},
     "output_type": "execute_result"
    }
   ],
   "source": [
    "dftrain.shape"
   ]
  },
  {
   "cell_type": "markdown",
   "metadata": {},
   "source": [
    "# Adding weather Data"
   ]
  },
  {
   "cell_type": "code",
   "execution_count": 18,
   "metadata": {
    "collapsed": true
   },
   "outputs": [],
   "source": [
    "#adding weather data\n",
    "def addingweather(df):\n",
    "    weather['date'] = pd.to_datetime(weather['date'])\n",
    "    df['pickup_date'] = pd.to_datetime(df['pickup_date'])\n",
    "    weather.rename(columns={'date':'pickup_date'},inplace=True)\n",
    "    df=pd.merge(df,weather,on='pickup_date',how='left')\n",
    "    return df\n"
   ]
  },
  {
   "cell_type": "code",
   "execution_count": 19,
   "metadata": {
    "collapsed": true
   },
   "outputs": [],
   "source": [
    "dftrain = addingweather(dftrain)"
   ]
  },
  {
   "cell_type": "code",
   "execution_count": 20,
   "metadata": {
    "collapsed": true
   },
   "outputs": [],
   "source": [
    "#to csv after extracting facttors: change file name after using function\n",
    "def tocsv(df):\n",
    "    df.to_csv(\"dfwithfactors.csv\")\n",
    "    "
   ]
  },
  {
   "cell_type": "code",
   "execution_count": 21,
   "metadata": {
    "collapsed": true
   },
   "outputs": [],
   "source": [
    "tocsv(dftrain)"
   ]
  },
  {
   "cell_type": "markdown",
   "metadata": {
    "collapsed": true
   },
   "source": [
    "# Grouping the categorical values based on similar behaviour"
   ]
  },
  {
   "cell_type": "markdown",
   "metadata": {},
   "source": [
    "# Number of trips by month"
   ]
  },
  {
   "cell_type": "code",
   "execution_count": 22,
   "metadata": {},
   "outputs": [
    {
     "data": {
      "image/png": "[encoded data removed]",
      "text/plain": [
       "<matplotlib.figure.Figure at 0x8e0f588>"
      ]
     },
     "metadata": {},
     "output_type": "display_data"
    }
   ],
   "source": [
    "#Monthly\n",
    "month_names=['January', 'February', 'March', 'April', 'May', 'June', 'July', 'August', 'September', 'October', 'November', 'December']\n",
    "plt.figure(figsize=(12,2))\n",
    "month_wise=dftrain.groupby('pickup_month').agg({'id':'count'}).reset_index()\n",
    "sns.barplot(x='pickup_month',y='id',data=month_wise)\n",
    "plt.xlabel('Month wise pick up')\n",
    "plt.ylabel('no of counts')\n",
    "plt.xticks(range(0,7),month_names[:6])\n",
    "plt.title('Monthly pick up')\n",
    "pass"
   ]
  },
  {
   "cell_type": "markdown",
   "metadata": {},
   "source": [
    "Lower number of trips in first two months may be due to \"Winter\". Next 3 months are showing similar behavior with number of trips. So, we are grouping months into three seasons"
   ]
  },
  {
   "cell_type": "code",
   "execution_count": 23,
   "metadata": {
    "collapsed": true
   },
   "outputs": [],
   "source": [
    "#For the train dataset, devide months into seasons\n",
    "def season(dfv4):\n",
    "    dfv4['s1']=dfv4['pickup_month']<=2\n",
    "    dfv4['s2']=dfv4['pickup_month'].between(3,5)\n",
    "    dfv4['s3']=dfv4['pickup_month']>=6"
   ]
  },
  {
   "cell_type": "code",
   "execution_count": 24,
   "metadata": {
    "collapsed": true
   },
   "outputs": [],
   "source": [
    "season(dftrain)"
   ]
  },
  {
   "cell_type": "markdown",
   "metadata": {},
   "source": [
    "# Number of trips by week day"
   ]
  },
  {
   "cell_type": "code",
   "execution_count": 25,
   "metadata": {},
   "outputs": [
    {
     "data": {
      "image/png": "[encoded data removed]",
      "text/plain": [
       "<matplotlib.figure.Figure at 0x2dbaf208>"
      ]
     },
     "metadata": {},
     "output_type": "display_data"
    }
   ],
   "source": [
    "#Day of a week\n",
    "weekday_names=['Monday', 'Tuesday', 'Wednesday', 'Thursday', 'Friday', 'Saturday', 'Sunday']\n",
    "plt.figure(figsize=(12,2))\n",
    "day_wise=dftrain.groupby('pickup_weekday').agg({'id':'count'}).reset_index()\n",
    "sns.barplot(x='pickup_weekday',y='id',data=day_wise)\n",
    "plt.xlabel('day wise pick up')\n",
    "plt.ylabel('no of counts')\n",
    "plt.xticks(range(0,7),weekday_names)\n",
    "plt.title('Daily pickup')\n",
    "pass\n"
   ]
  },
  {
   "cell_type": "markdown",
   "metadata": {},
   "source": [
    "There is no particular trend in weekday vs number of trips. so, we take week days as individual features"
   ]
  },
  {
   "cell_type": "code",
   "execution_count": 26,
   "metadata": {
    "collapsed": true
   },
   "outputs": [],
   "source": [
    "def weekdaydummy(dfv4):\n",
    "    dfv4[\"pwd0\"] = dfv4['pickup_weekday']==0\n",
    "    dfv4[\"pwd1\"] = dfv4['pickup_weekday']==1\n",
    "    dfv4[\"pwd2\"] = dfv4['pickup_weekday']==2\n",
    "    dfv4[\"pwd3\"] = dfv4['pickup_weekday']==3\n",
    "    dfv4[\"pwd4\"] = dfv4['pickup_weekday']==4\n",
    "    dfv4[\"pwd5\"] = dfv4['pickup_weekday']==5\n",
    "    dfv4[\"pwd6\"] = dfv4['pickup_weekday']==6"
   ]
  },
  {
   "cell_type": "code",
   "execution_count": 27,
   "metadata": {
    "collapsed": true
   },
   "outputs": [],
   "source": [
    "weekdaydummy(dftrain)"
   ]
  },
  {
   "cell_type": "code",
   "execution_count": 28,
   "metadata": {
    "collapsed": true
   },
   "outputs": [],
   "source": [
    "def weekdaydist(dfv4):\n",
    "    dfv4[\"weektime\"] = dfv4['pickup_weekday'].between(0,4)\n",
    "    dfv4[\"weekendtime\"] = dfv4['pickup_weekday'].between(5,6)"
   ]
  },
  {
   "cell_type": "code",
   "execution_count": 29,
   "metadata": {
    "collapsed": true
   },
   "outputs": [],
   "source": [
    "weekdaydist(dftrain)"
   ]
  },
  {
   "cell_type": "markdown",
   "metadata": {},
   "source": [
    "We tried grouping week days, but it is showing negative effect on ML model. So, we withdrew the approach on weekday grouping"
   ]
  },
  {
   "cell_type": "markdown",
   "metadata": {},
   "source": [
    "# Number of trips by hour of the day"
   ]
  },
  {
   "cell_type": "code",
   "execution_count": 30,
   "metadata": {},
   "outputs": [
    {
     "data": {
      "image/png": "[encoded data removed]",
      "text/plain": [
       "<matplotlib.figure.Figure at 0x162c1710>"
      ]
     },
     "metadata": {},
     "output_type": "display_data"
    }
   ],
   "source": [
    "#Hourly\n",
    "plt.figure(figsize=(12,2))\n",
    "hour_wise=dftrain.groupby('pickup_hour').agg({'id':'count'}).reset_index()\n",
    "sns.barplot(x='pickup_hour',y='id',data=hour_wise)\n",
    "plt.xlabel('hourly wise pick up 0-23')\n",
    "plt.ylabel('no of counts')\n",
    "plt.title('Hourly pick up')\n",
    "pass"
   ]
  },
  {
   "cell_type": "markdown",
   "metadata": {},
   "source": [
    "As we see some similarity in behaviour through some time periods, we divided the whole day into 4 time zones"
   ]
  },
  {
   "cell_type": "code",
   "execution_count": 31,
   "metadata": {
    "collapsed": true
   },
   "outputs": [],
   "source": [
    "def timebins(dfv4):\n",
    "    dfv4['timeperiod1']=dfv4['pickup_hour'].between(0,6)\n",
    "    dfv4['timeperiod2']=dfv4['pickup_hour'].between(7,10)\n",
    "    dfv4['timeperiod3']=dfv4['pickup_hour'].between(11,16)\n",
    "    dfv4['timeperiod4']=dfv4['pickup_hour'].between(17,23)"
   ]
  },
  {
   "cell_type": "code",
   "execution_count": 32,
   "metadata": {
    "collapsed": true
   },
   "outputs": [],
   "source": [
    "timebins(dftrain)"
   ]
  },
  {
   "cell_type": "markdown",
   "metadata": {},
   "source": [
    "# Number of Passengers vs Average trip duration"
   ]
  },
  {
   "cell_type": "code",
   "execution_count": 33,
   "metadata": {},
   "outputs": [
    {
     "data": {
      "text/plain": [
       "Text(0.5,1,u'passenger count - trip duration')"
      ]
     },
     "execution_count": 33,
     "metadata": {},
     "output_type": "execute_result"
    },
    {
     "data": {
      "image/png": "[encoded data removed]",
      "text/plain": [
       "<matplotlib.figure.Figure at 0x2d36e828>"
      ]
     },
     "metadata": {},
     "output_type": "display_data"
    }
   ],
   "source": [
    "#Number of Passengers vs Average trip duration\n",
    "plt.figure(figsize=(12,2))\n",
    "passenger=dftrain.groupby('passenger_count').agg({'trip_duration':'mean'}).reset_index()\n",
    "sns.barplot(x='passenger_count',y='trip_duration',data=passenger)\n",
    "plt.xlabel('passenger count')\n",
    "plt.ylabel('avg_ trip duration')\n",
    "plt.title('passenger count - trip duration')"
   ]
  },
  {
   "cell_type": "code",
   "execution_count": null,
   "metadata": {
    "collapsed": true
   },
   "outputs": [],
   "source": [
    "As there is no much effect of number of passengers on trip duration, we are not considering "
   ]
  },
  {
   "cell_type": "markdown",
   "metadata": {},
   "source": [
    "# Extracting relavent features from weather Weather"
   ]
  },
  {
   "cell_type": "code",
   "execution_count": 47,
   "metadata": {},
   "outputs": [
    {
     "data": {
      "image/png": "[encoded data removed]",
      "text/plain": [
       "<matplotlib.figure.Figure at 0x1abcd3c8>"
      ]
     },
     "metadata": {},
     "output_type": "display_data"
    }
   ],
   "source": [
    "#Weather data comarison\n",
    "fig, ax = plt.subplots(nrows=2,ncols=2, figsize=(12, 8))\n",
    "\n",
    "figure=plt.subplot(311)\n",
    "table=dftrain.groupby('yday').agg({'id':'count'})\n",
    "plt.plot(table)\n",
    "plt.xlabel('Day of a year')\n",
    "plt.ylabel('Average daily trips')\n",
    "plt.title('Daily Trips')\n",
    "pass\n",
    "\n",
    "figure=plt.subplot(312)\n",
    "data=dftrain.groupby('yday').agg({'snow fall':'mean'})\n",
    "plt.xlabel('Day of a year')\n",
    "plt.ylabel('snowfall')\n",
    "plt.title('Average snow fall(inches) per day')\n",
    "plt.plot(data)\n",
    "pass\n",
    "\n",
    "figure=plt.subplot(313)\n",
    "data=dftrain.groupby('yday').agg({'trip_duration':'mean'})\n",
    "plt.xlabel('Day of a year')\n",
    "plt.ylabel('Average trip duration')\n",
    "plt.title('Average trip duration per day')\n",
    "plt.plot(data)\n",
    "pass\n",
    "\n",
    "fig.tight_layout()"
   ]
  },
  {
   "cell_type": "markdown",
   "metadata": {},
   "source": [
    "As we see the graphs above, when there was snow fall, there was a drop in number of trips and increase in average trip duration. So, we take snow fall a feature"
   ]
  },
  {
   "cell_type": "code",
   "execution_count": 35,
   "metadata": {},
   "outputs": [
    {
     "data": {
      "text/plain": [
       "Index([u'id', u'vendor_id', u'pickup_datetime', u'dropoff_datetime',\n",
       "       u'passenger_count', u'pickup_longitude', u'pickup_latitude',\n",
       "       u'dropoff_longitude', u'dropoff_latitude', u'store_and_fwd_flag',\n",
       "       u'trip_duration', u'pickup_date', u'drop_date', u'pickup_time',\n",
       "       u'drop_time', u'pickup_hour', u'drop_hour', u'pickup_month',\n",
       "       u'drop_month', u'pickup_weekday', u'drop_weekday', u'yday', u'distance',\n",
       "       u'maximum Temperature', u'minimum Temperature', u'average Temperature',\n",
       "       u'precipitation', u'snow fall', u'snow depth', u's1', u's2', u's3',\n",
       "       u'pwd0', u'pwd1', u'pwd2', u'pwd3', u'pwd4', u'pwd5', u'pwd6',\n",
       "       u'weektime', u'weekendtime', u'timeperiod1', u'timeperiod2',\n",
       "       u'timeperiod3', u'timeperiod4'],\n",
       "      dtype='object')"
      ]
     },
     "execution_count": 35,
     "metadata": {},
     "output_type": "execute_result"
    }
   ],
   "source": [
    "dftrain.columns"
   ]
  },
  {
   "cell_type": "markdown",
   "metadata": {},
   "source": [
    "# Selecting relavant features"
   ]
  },
  {
   "cell_type": "code",
   "execution_count": 36,
   "metadata": {
    "collapsed": true
   },
   "outputs": [],
   "source": [
    "features = [\"pickup_longitude\",\"pickup_latitude\",\"dropoff_longitude\",\"dropoff_latitude\",\"passenger_count\",u'pwd0', 'pwd1', 'pwd2', 'pwd3', 'pwd4', 'pwd5',\n",
    "       'pwd6',\"distance\",\"snow fall\",\"s1\",\"s2\",\"s3\",'timeperiod1', 'timeperiod2', 'timeperiod3', 'timeperiod4']"
   ]
  },
  {
   "cell_type": "code",
   "execution_count": 37,
   "metadata": {},
   "outputs": [
    {
     "data": {
      "text/html": [
       "<table class=\"simpletable\">\n",
       "<caption>OLS Regression Results</caption>\n",
       "<tr>\n",
       "  <th>Dep. Variable:</th>      <td>trip_duration</td>  <th>  R-squared:         </th>  <td>   0.628</td>  \n",
       "</tr>\n",
       "<tr>\n",
       "  <th>Model:</th>                   <td>OLS</td>       <th>  Adj. R-squared:    </th>  <td>   0.628</td>  \n",
       "</tr>\n",
       "<tr>\n",
       "  <th>Method:</th>             <td>Least Squares</td>  <th>  F-statistic:       </th>  <td>1.338e+05</td> \n",
       "</tr>\n",
       "<tr>\n",
       "  <th>Date:</th>             <td>Fri, 08 Dec 2017</td> <th>  Prob (F-statistic):</th>   <td>  0.00</td>   \n",
       "</tr>\n",
       "<tr>\n",
       "  <th>Time:</th>                 <td>18:03:42</td>     <th>  Log-Likelihood:    </th> <td>-1.0419e+07</td>\n",
       "</tr>\n",
       "<tr>\n",
       "  <th>No. Observations:</th>      <td>1424814</td>     <th>  AIC:               </th>  <td>2.084e+07</td> \n",
       "</tr>\n",
       "<tr>\n",
       "  <th>Df Residuals:</th>          <td>1424795</td>     <th>  BIC:               </th>  <td>2.084e+07</td> \n",
       "</tr>\n",
       "<tr>\n",
       "  <th>Df Model:</th>              <td>    18</td>      <th>                     </th>      <td> </td>     \n",
       "</tr>\n",
       "<tr>\n",
       "  <th>Covariance Type:</th>      <td>nonrobust</td>    <th>                     </th>      <td> </td>     \n",
       "</tr>\n",
       "</table>\n",
       "<table class=\"simpletable\">\n",
       "<tr>\n",
       "          <td></td>             <th>coef</th>     <th>std err</th>      <th>t</th>      <th>P>|t|</th>  <th>[0.025</th>    <th>0.975]</th>  \n",
       "</tr>\n",
       "<tr>\n",
       "  <th>const</th>             <td>-1.279e+05</td> <td>  807.049</td> <td> -158.446</td> <td> 0.000</td> <td>-1.29e+05</td> <td>-1.26e+05</td>\n",
       "</tr>\n",
       "<tr>\n",
       "  <th>pickup_longitude</th>  <td>-1393.0098</td> <td>   10.166</td> <td> -137.030</td> <td> 0.000</td> <td>-1412.934</td> <td>-1373.085</td>\n",
       "</tr>\n",
       "<tr>\n",
       "  <th>pickup_latitude</th>   <td> 1111.8616</td> <td>   13.261</td> <td>   83.847</td> <td> 0.000</td> <td> 1085.871</td> <td> 1137.852</td>\n",
       "</tr>\n",
       "<tr>\n",
       "  <th>dropoff_longitude</th> <td>-1487.0512</td> <td>   11.015</td> <td> -134.998</td> <td> 0.000</td> <td>-1508.641</td> <td>-1465.461</td>\n",
       "</tr>\n",
       "<tr>\n",
       "  <th>dropoff_latitude</th>  <td> -915.3967</td> <td>   11.856</td> <td>  -77.208</td> <td> 0.000</td> <td> -938.635</td> <td> -892.159</td>\n",
       "</tr>\n",
       "<tr>\n",
       "  <th>passenger_count</th>   <td>    3.3694</td> <td>    0.231</td> <td>   14.570</td> <td> 0.000</td> <td>    2.916</td> <td>    3.823</td>\n",
       "</tr>\n",
       "<tr>\n",
       "  <th>pwd0</th>              <td>-1.831e+04</td> <td>  115.287</td> <td> -158.853</td> <td> 0.000</td> <td>-1.85e+04</td> <td>-1.81e+04</td>\n",
       "</tr>\n",
       "<tr>\n",
       "  <th>pwd1</th>              <td>-1.824e+04</td> <td>  115.294</td> <td> -158.228</td> <td> 0.000</td> <td>-1.85e+04</td> <td> -1.8e+04</td>\n",
       "</tr>\n",
       "<tr>\n",
       "  <th>pwd2</th>              <td>-1.822e+04</td> <td>  115.297</td> <td> -158.032</td> <td> 0.000</td> <td>-1.84e+04</td> <td> -1.8e+04</td>\n",
       "</tr>\n",
       "<tr>\n",
       "  <th>pwd3</th>              <td>-1.821e+04</td> <td>  115.296</td> <td> -157.949</td> <td> 0.000</td> <td>-1.84e+04</td> <td> -1.8e+04</td>\n",
       "</tr>\n",
       "<tr>\n",
       "  <th>pwd4</th>              <td>-1.823e+04</td> <td>  115.294</td> <td> -158.121</td> <td> 0.000</td> <td>-1.85e+04</td> <td> -1.8e+04</td>\n",
       "</tr>\n",
       "<tr>\n",
       "  <th>pwd5</th>              <td> -1.83e+04</td> <td>  115.302</td> <td> -158.698</td> <td> 0.000</td> <td>-1.85e+04</td> <td>-1.81e+04</td>\n",
       "</tr>\n",
       "<tr>\n",
       "  <th>pwd6</th>              <td>-1.836e+04</td> <td>  115.296</td> <td> -159.220</td> <td> 0.000</td> <td>-1.86e+04</td> <td>-1.81e+04</td>\n",
       "</tr>\n",
       "<tr>\n",
       "  <th>distance</th>          <td>  144.3228</td> <td>    0.118</td> <td> 1220.660</td> <td> 0.000</td> <td>  144.091</td> <td>  144.555</td>\n",
       "</tr>\n",
       "<tr>\n",
       "  <th>snow fall</th>         <td>    6.0460</td> <td>    0.325</td> <td>   18.583</td> <td> 0.000</td> <td>    5.408</td> <td>    6.684</td>\n",
       "</tr>\n",
       "<tr>\n",
       "  <th>s1</th>                <td>-4.266e+04</td> <td>  269.015</td> <td> -158.582</td> <td> 0.000</td> <td>-4.32e+04</td> <td>-4.21e+04</td>\n",
       "</tr>\n",
       "<tr>\n",
       "  <th>s2</th>                <td>-4.262e+04</td> <td>  269.018</td> <td> -158.431</td> <td> 0.000</td> <td>-4.31e+04</td> <td>-4.21e+04</td>\n",
       "</tr>\n",
       "<tr>\n",
       "  <th>s3</th>                <td>-4.259e+04</td> <td>  269.017</td> <td> -158.325</td> <td> 0.000</td> <td>-4.31e+04</td> <td>-4.21e+04</td>\n",
       "</tr>\n",
       "<tr>\n",
       "  <th>timeperiod1</th>       <td>-3.213e+04</td> <td>  201.735</td> <td> -159.280</td> <td> 0.000</td> <td>-3.25e+04</td> <td>-3.17e+04</td>\n",
       "</tr>\n",
       "<tr>\n",
       "  <th>timeperiod2</th>       <td>-3.192e+04</td> <td>  201.776</td> <td> -158.219</td> <td> 0.000</td> <td>-3.23e+04</td> <td>-3.15e+04</td>\n",
       "</tr>\n",
       "<tr>\n",
       "  <th>timeperiod3</th>       <td>-3.185e+04</td> <td>  201.770</td> <td> -157.835</td> <td> 0.000</td> <td>-3.22e+04</td> <td>-3.15e+04</td>\n",
       "</tr>\n",
       "<tr>\n",
       "  <th>timeperiod4</th>       <td>-3.197e+04</td> <td>  201.772</td> <td> -158.449</td> <td> 0.000</td> <td>-3.24e+04</td> <td>-3.16e+04</td>\n",
       "</tr>\n",
       "</table>\n",
       "<table class=\"simpletable\">\n",
       "<tr>\n",
       "  <th>Omnibus:</th>       <td>428483.403</td> <th>  Durbin-Watson:     </th>  <td>   2.001</td>  \n",
       "</tr>\n",
       "<tr>\n",
       "  <th>Prob(Omnibus):</th>   <td> 0.000</td>   <th>  Jarque-Bera (JB):  </th> <td>2455249.960</td>\n",
       "</tr>\n",
       "<tr>\n",
       "  <th>Skew:</th>            <td> 1.330</td>   <th>  Prob(JB):          </th>  <td>    0.00</td>  \n",
       "</tr>\n",
       "<tr>\n",
       "  <th>Kurtosis:</th>        <td> 8.855</td>   <th>  Cond. No.          </th>  <td>1.74e+17</td>  \n",
       "</tr>\n",
       "</table>"
      ],
      "text/plain": [
       "<class 'statsmodels.iolib.summary.Summary'>\n",
       "\"\"\"\n",
       "                            OLS Regression Results                            \n",
       "==============================================================================\n",
       "Dep. Variable:          trip_duration   R-squared:                       0.628\n",
       "Model:                            OLS   Adj. R-squared:                  0.628\n",
       "Method:                 Least Squares   F-statistic:                 1.338e+05\n",
       "Date:                Fri, 08 Dec 2017   Prob (F-statistic):               0.00\n",
       "Time:                        18:03:42   Log-Likelihood:            -1.0419e+07\n",
       "No. Observations:             1424814   AIC:                         2.084e+07\n",
       "Df Residuals:                 1424795   BIC:                         2.084e+07\n",
       "Df Model:                          18                                         \n",
       "Covariance Type:            nonrobust                                         \n",
       "=====================================================================================\n",
       "                        coef    std err          t      P>|t|      [0.025      0.975]\n",
       "-------------------------------------------------------------------------------------\n",
       "const             -1.279e+05    807.049   -158.446      0.000   -1.29e+05   -1.26e+05\n",
       "pickup_longitude  -1393.0098     10.166   -137.030      0.000   -1412.934   -1373.085\n",
       "pickup_latitude    1111.8616     13.261     83.847      0.000    1085.871    1137.852\n",
       "dropoff_longitude -1487.0512     11.015   -134.998      0.000   -1508.641   -1465.461\n",
       "dropoff_latitude   -915.3967     11.856    -77.208      0.000    -938.635    -892.159\n",
       "passenger_count       3.3694      0.231     14.570      0.000       2.916       3.823\n",
       "pwd0              -1.831e+04    115.287   -158.853      0.000   -1.85e+04   -1.81e+04\n",
       "pwd1              -1.824e+04    115.294   -158.228      0.000   -1.85e+04    -1.8e+04\n",
       "pwd2              -1.822e+04    115.297   -158.032      0.000   -1.84e+04    -1.8e+04\n",
       "pwd3              -1.821e+04    115.296   -157.949      0.000   -1.84e+04    -1.8e+04\n",
       "pwd4              -1.823e+04    115.294   -158.121      0.000   -1.85e+04    -1.8e+04\n",
       "pwd5               -1.83e+04    115.302   -158.698      0.000   -1.85e+04   -1.81e+04\n",
       "pwd6              -1.836e+04    115.296   -159.220      0.000   -1.86e+04   -1.81e+04\n",
       "distance            144.3228      0.118   1220.660      0.000     144.091     144.555\n",
       "snow fall             6.0460      0.325     18.583      0.000       5.408       6.684\n",
       "s1                -4.266e+04    269.015   -158.582      0.000   -4.32e+04   -4.21e+04\n",
       "s2                -4.262e+04    269.018   -158.431      0.000   -4.31e+04   -4.21e+04\n",
       "s3                -4.259e+04    269.017   -158.325      0.000   -4.31e+04   -4.21e+04\n",
       "timeperiod1       -3.213e+04    201.735   -159.280      0.000   -3.25e+04   -3.17e+04\n",
       "timeperiod2       -3.192e+04    201.776   -158.219      0.000   -3.23e+04   -3.15e+04\n",
       "timeperiod3       -3.185e+04    201.770   -157.835      0.000   -3.22e+04   -3.15e+04\n",
       "timeperiod4       -3.197e+04    201.772   -158.449      0.000   -3.24e+04   -3.16e+04\n",
       "==============================================================================\n",
       "Omnibus:                   428483.403   Durbin-Watson:                   2.001\n",
       "Prob(Omnibus):                  0.000   Jarque-Bera (JB):          2455249.960\n",
       "Skew:                           1.330   Prob(JB):                         0.00\n",
       "Kurtosis:                       8.855   Cond. No.                     1.74e+17\n",
       "==============================================================================\n",
       "\n",
       "Warnings:\n",
       "[1] Standard Errors assume that the covariance matrix of the errors is correctly specified.\n",
       "[2] The smallest eigenvalue is 6.76e-25. This might indicate that there are\n",
       "strong multicollinearity problems or that the design matrix is singular.\n",
       "\"\"\""
      ]
     },
     "execution_count": 37,
     "metadata": {},
     "output_type": "execute_result"
    }
   ],
   "source": [
    "x = dftrain[features]\n",
    "Y = dftrain['trip_duration']\n",
    "x=sm.add_constant(x)\n",
    "model=sm.OLS(Y,x.astype(float)).fit()\n",
    "model.summary()"
   ]
  },
  {
   "cell_type": "code",
   "execution_count": 38,
   "metadata": {
    "collapsed": true
   },
   "outputs": [],
   "source": [
    "features = [\"pickup_longitude\",\"pickup_latitude\",\"dropoff_longitude\",\"dropoff_latitude\",\"passenger_count\",'weektime','weekendtime',\"distance\",\"snow fall\",\"s1\",\"s2\",\"s3\",'timeperiod1', 'timeperiod2', 'timeperiod3', 'timeperiod4']\n",
    "X_train = dftrain[features]\n",
    "y_train = dftrain['trip_duration']"
   ]
  },
  {
   "cell_type": "code",
   "execution_count": 39,
   "metadata": {
    "collapsed": true
   },
   "outputs": [],
   "source": [
    "X_Train,X_test,Y_train,Y_test=train_test_split(X_train,y_train,test_size=0.2,random_state=42)"
   ]
  },
  {
   "cell_type": "code",
   "execution_count": 40,
   "metadata": {},
   "outputs": [
    {
     "data": {
      "text/plain": [
       "62.52"
      ]
     },
     "execution_count": 40,
     "metadata": {},
     "output_type": "execute_result"
    }
   ],
   "source": [
    "lm=linear_model.LinearRegression()\n",
    "model=lm.fit(X_train,y_train)\n",
    "pred=lm.predict(X_test)\n",
    "accuracy=round(lm.score(X_train,y_train)*100,2)\n",
    "accuracy"
   ]
  },
  {
   "cell_type": "code",
   "execution_count": 55,
   "metadata": {},
   "outputs": [],
   "source": [
    "Y_test = Y_test.astype(float)"
   ]
  },
  {
   "cell_type": "code",
   "execution_count": 59,
   "metadata": {},
   "outputs": [],
   "source": [
    "Yt=Y_test.values"
   ]
  },
  {
   "cell_type": "code",
   "execution_count": 61,
   "metadata": {},
   "outputs": [
    {
     "data": {
      "text/plain": [
       "array([  628.5703125,   544.6953125,   278.8515625, ...,   443.2109375,\n",
       "        1090.3515625,   841.5234375])"
      ]
     },
     "execution_count": 61,
     "metadata": {},
     "output_type": "execute_result"
    }
   ],
   "source": [
    "pred"
   ]
  },
  {
   "cell_type": "code",
   "execution_count": 64,
   "metadata": {},
   "outputs": [],
   "source": [
    "acc = (Yt-pred)"
   ]
  },
  {
   "cell_type": "code",
   "execution_count": 66,
   "metadata": {},
   "outputs": [
    {
     "data": {
      "text/plain": [
       "-316.6953125"
      ]
     },
     "execution_count": 66,
     "metadata": {},
     "output_type": "execute_result"
    }
   ],
   "source": [
    "acc[1] "
   ]
  },
  {
   "cell_type": "code",
   "execution_count": 80,
   "metadata": {},
   "outputs": [],
   "source": [
    "def classification(df1,df2):\n",
    "    a = []\n",
    "    i=0\n",
    "    for i in range (0,len(df1)):\n",
    "        if abs(df1[i])<abs(df2[i]*0.3):\n",
    "            a.append(1)\n",
    "        else:\n",
    "            a.append(0)\n",
    "    return a"
   ]
  },
  {
   "cell_type": "code",
   "execution_count": 81,
   "metadata": {},
   "outputs": [],
   "source": [
    "classarray = classification(acc,Yt)"
   ]
  },
  {
   "cell_type": "code",
   "execution_count": 82,
   "metadata": {},
   "outputs": [
    {
     "data": {
      "text/plain": [
       "146802"
      ]
     },
     "execution_count": 82,
     "metadata": {},
     "output_type": "execute_result"
    }
   ],
   "source": [
    "classarray.count(1)"
   ]
  },
  {
   "cell_type": "code",
   "execution_count": 83,
   "metadata": {},
   "outputs": [
    {
     "data": {
      "text/plain": [
       "138161"
      ]
     },
     "execution_count": 83,
     "metadata": {},
     "output_type": "execute_result"
    }
   ],
   "source": [
    "classarray.count(0)"
   ]
  },
  {
   "cell_type": "code",
   "execution_count": 69,
   "metadata": {
    "collapsed": true
   },
   "outputs": [],
   "source": [
    "def sumofsq(df):\n",
    "    a = 0\n",
    "    i=0\n",
    "    for i in range (0,len(df)):\n",
    "        a = a+(df[i])**2\n",
    "        i=i+1\n",
    "        \n",
    "    return a\n",
    "    \n",
    "    \n",
    "    "
   ]
  },
  {
   "cell_type": "code",
   "execution_count": 70,
   "metadata": {},
   "outputs": [],
   "source": [
    "acc12 = sumofsq(acc)"
   ]
  },
  {
   "cell_type": "code",
   "execution_count": 72,
   "metadata": {},
   "outputs": [
    {
     "data": {
      "text/plain": [
       "132308.3896632097"
      ]
     },
     "execution_count": 72,
     "metadata": {},
     "output_type": "execute_result"
    }
   ],
   "source": [
    "acc12/len(acc)"
   ]
  },
  {
   "cell_type": "code",
   "execution_count": null,
   "metadata": {
    "collapsed": true
   },
   "outputs": [],
   "source": []
  },
  {
   "cell_type": "code",
   "execution_count": 62,
   "metadata": {},
   "outputs": [
    {
     "ename": "ValueError",
     "evalue": "Classification metrics can't handle a mix of multiclass and continuous targets",
     "output_type": "error",
     "traceback": [
      "\u001b[1;31m\u001b[0m",
      "\u001b[1;31mValueError\u001b[0mTraceback (most recent call last)",
      "\u001b[1;32m<ipython-input-62-5e65d57f2435>\u001b[0m in \u001b[0;36m<module>\u001b[1;34m()\u001b[0m\n\u001b[0;32m      1\u001b[0m \u001b[1;32mfrom\u001b[0m \u001b[0msklearn\u001b[0m\u001b[1;33m.\u001b[0m\u001b[0mmetrics\u001b[0m \u001b[1;32mimport\u001b[0m \u001b[0maccuracy_score\u001b[0m\u001b[1;33m\u001b[0m\u001b[0m\n\u001b[1;32m----> 2\u001b[1;33m \u001b[0maccuracy_score\u001b[0m\u001b[1;33m(\u001b[0m\u001b[0mYt\u001b[0m\u001b[1;33m,\u001b[0m \u001b[0mpred\u001b[0m\u001b[1;33m)\u001b[0m\u001b[1;33m\u001b[0m\u001b[0m\n\u001b[0m",
      "\u001b[1;32mC:\\Users\\bbnsu_000\\Anaconda2\\envs\\project\\lib\\site-packages\\sklearn\\metrics\\classification.pyc\u001b[0m in \u001b[0;36maccuracy_score\u001b[1;34m(y_true, y_pred, normalize, sample_weight)\u001b[0m\n\u001b[0;32m    174\u001b[0m \u001b[1;33m\u001b[0m\u001b[0m\n\u001b[0;32m    175\u001b[0m     \u001b[1;31m# Compute accuracy for each possible representation\u001b[0m\u001b[1;33m\u001b[0m\u001b[1;33m\u001b[0m\u001b[0m\n\u001b[1;32m--> 176\u001b[1;33m     \u001b[0my_type\u001b[0m\u001b[1;33m,\u001b[0m \u001b[0my_true\u001b[0m\u001b[1;33m,\u001b[0m \u001b[0my_pred\u001b[0m \u001b[1;33m=\u001b[0m \u001b[0m_check_targets\u001b[0m\u001b[1;33m(\u001b[0m\u001b[0my_true\u001b[0m\u001b[1;33m,\u001b[0m \u001b[0my_pred\u001b[0m\u001b[1;33m)\u001b[0m\u001b[1;33m\u001b[0m\u001b[0m\n\u001b[0m\u001b[0;32m    177\u001b[0m     \u001b[1;32mif\u001b[0m \u001b[0my_type\u001b[0m\u001b[1;33m.\u001b[0m\u001b[0mstartswith\u001b[0m\u001b[1;33m(\u001b[0m\u001b[1;34m'multilabel'\u001b[0m\u001b[1;33m)\u001b[0m\u001b[1;33m:\u001b[0m\u001b[1;33m\u001b[0m\u001b[0m\n\u001b[0;32m    178\u001b[0m         \u001b[0mdiffering_labels\u001b[0m \u001b[1;33m=\u001b[0m \u001b[0mcount_nonzero\u001b[0m\u001b[1;33m(\u001b[0m\u001b[0my_true\u001b[0m \u001b[1;33m-\u001b[0m \u001b[0my_pred\u001b[0m\u001b[1;33m,\u001b[0m \u001b[0maxis\u001b[0m\u001b[1;33m=\u001b[0m\u001b[1;36m1\u001b[0m\u001b[1;33m)\u001b[0m\u001b[1;33m\u001b[0m\u001b[0m\n",
      "\u001b[1;32mC:\\Users\\bbnsu_000\\Anaconda2\\envs\\project\\lib\\site-packages\\sklearn\\metrics\\classification.pyc\u001b[0m in \u001b[0;36m_check_targets\u001b[1;34m(y_true, y_pred)\u001b[0m\n\u001b[0;32m     79\u001b[0m     \u001b[1;32mif\u001b[0m \u001b[0mlen\u001b[0m\u001b[1;33m(\u001b[0m\u001b[0my_type\u001b[0m\u001b[1;33m)\u001b[0m \u001b[1;33m>\u001b[0m \u001b[1;36m1\u001b[0m\u001b[1;33m:\u001b[0m\u001b[1;33m\u001b[0m\u001b[0m\n\u001b[0;32m     80\u001b[0m         raise ValueError(\"Classification metrics can't handle a mix of {0} \"\n\u001b[1;32m---> 81\u001b[1;33m                          \"and {1} targets\".format(type_true, type_pred))\n\u001b[0m\u001b[0;32m     82\u001b[0m \u001b[1;33m\u001b[0m\u001b[0m\n\u001b[0;32m     83\u001b[0m     \u001b[1;31m# We can't have more than one value on y_type => The set is no more needed\u001b[0m\u001b[1;33m\u001b[0m\u001b[1;33m\u001b[0m\u001b[0m\n",
      "\u001b[1;31mValueError\u001b[0m: Classification metrics can't handle a mix of multiclass and continuous targets"
     ]
    }
   ],
   "source": [
    "from sklearn.metrics import accuracy_score\n",
    "accuracy_score(Yt, pred)"
   ]
  }
 ],
 "metadata": {
  "kernelspec": {
   "display_name": "Python 3",
   "language": "python",
   "name": "python3"
  },
  "language_info": {
   "codemirror_mode": {
    "name": "ipython",
    "version": 3
   },
   "file_extension": ".py",
   "mimetype": "text/x-python",
   "name": "python",
   "nbconvert_exporter": "python",
   "pygments_lexer": "ipython3",
   "version": "3.4.0"
  }
 },
 "nbformat": 4,
 "nbformat_minor": 2
}
